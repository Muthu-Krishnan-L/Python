{
 "cells": [
  {
   "cell_type": "markdown",
   "metadata": {},
   "source": [
    "# <center>PGP Data Science Engineering</center>\n",
    "## <center>Introduction to Programming – Mini Project:</center>\n"
   ]
  },
  {
   "cell_type": "markdown",
   "metadata": {},
   "source": [
    "### Problem 1:\n",
    "\n",
    "1. Write a program to calculate area of shapes. Your program should be capable of calculating the area of a square, rectangle, triangle and a circle. The user should be presented with options to select the shape. Based on which shape is chosed by the user, the program should ask for the appropriate input and print the resulting area on the screen.\n",
    "\n",
    "When the program is run, the screen should display something like this:\n",
    "\n",
    "**Which shape would you like to calculate the area for? Please enter the option number-**<br>\n",
    "**1. Square**<br>\n",
    "**2. Rectangle**<br>\n",
    "**3. Triangle**<br>\n",
    "**4. Circle**<br>\n",
    "**Enter Option: _**\n",
    "\n",
    "Say the user enters the option 1.\n",
    "\n",
    "**Please enter the length of a side: _**\n",
    "\n",
    "If the user enters a value of 5. The output should be:\n",
    "\n",
    "**The area of the square is 25**\n",
    "\n",
    "This program should indicate that the input is invalid if the user enters a character instead of a number as input. For instance if the user enters a value of ‘a’ instead of 5 in the previous example the program should prompt:\n",
    "\n",
    "**Invalid input, please enter a number: _**\n"
   ]
  },
  {
   "cell_type": "code",
   "execution_count": 43,
   "metadata": {},
   "outputs": [
    {
     "name": "stdout",
     "output_type": "stream",
     "text": [
      "Which shape would you like to calculate the area for? Please enter the option number-\n",
      "1. Square\n",
      "2. Rectangle\n",
      "3. Triangle\n",
      "4. Circle\n",
      "Enter Option: _l\n",
      "Invalid input, please enter a number: _s\n",
      "Invalid input, please enter a number: _5\n",
      "Invalid number, please enter number between 1 to 4: _k\n",
      "Invalid input, please enter a valid number between 1 to 4: _2\n",
      "Please enter the length of a rectangle: _4\n",
      "Please enter the breadth of the rectangle:_8\n",
      "The area of the rectangle is 32\n"
     ]
    }
   ],
   "source": [
    "user = input('Which shape would you like to calculate the area for? Please enter the option number-\\n1. Square\\n2. Rectangle\\n3. Triangle\\n4. Circle\\nEnter Option: _')\n",
    "\n",
    "def intornot(a,b='a number: _'):\n",
    "    while a.isdigit() == False:\n",
    "        a = (input('Invalid input, please enter '+b))\n",
    "    return int(a)\n",
    "\n",
    "user = intornot(user)\n",
    "    \n",
    "while user<1 or user>4:\n",
    "    \n",
    "    user = input('Invalid number, please enter number between 1 to 4: _')\n",
    "    if user.isdigit()==False:\n",
    "        user = intornot((user),'a valid number between 1 to 4: _')\n",
    "        continue\n",
    "    else:\n",
    "        user=int(user)\n",
    "        continue\n",
    "\n",
    "if user == 1:\n",
    "    \n",
    "    length = input('Please enter the length of a side: _')\n",
    "    length = intornot(length,'length of a side: _')\n",
    "    ar = length**2\n",
    "    print(\"The area of the square is\",ar)\n",
    "                    \n",
    "elif user ==2:\n",
    "    length = input('Please enter the length of a rectangle: _')\n",
    "    length = intornot(length,'length of a rectangle: _')\n",
    "    breadth = input('Please enter the breadth of the rectangle:_')\n",
    "    breadth = intornot(breadth,'breadth of a rectangle: _')\n",
    "    ar = length*breadth\n",
    "    print(\"The area of the rectangle is\",ar)\n",
    "        \n",
    "elif user==3:\n",
    "        \n",
    "    height = input('Please enter the height of a triangle: _')\n",
    "    height = intornot(height,'height of a triangle: _')\n",
    "    base = input('Please enter the base of the triangle:_' )\n",
    "    base = intornot(base,'height of a triangle: _')\n",
    "    ar = height*base*0.5\n",
    "    print(\"The area of the triangle is\",ar)\n",
    "            \n",
    "elif user==4:\n",
    "    radius = input('Please enter the radius of the circle: _')\n",
    "    radius = intornot(radius,'radius of a circle: _')               \n",
    "    ar = 3.14*radius*radius\n",
    "    print(\"The area of the circle is\",round(ar,2))\n",
    "\n",
    "            \n",
    "            \n",
    "            \n",
    "                \n",
    "            \n",
    "    \n",
    "    \n",
    "    "
   ]
  },
  {
   "cell_type": "code",
   "execution_count": null,
   "metadata": {},
   "outputs": [],
   "source": []
  },
  {
   "cell_type": "markdown",
   "metadata": {},
   "source": [
    "### Problem 2:\n",
    "\n",
    "Create and encrypter in python based on the ceaser cipher. It is a substitution cipher where each character of the original text is shifted a certain number characters in the alphabet. Write a function that would require 2 arguments – the input text to be encrypted and a key. For eg: Given the input text ‘hello’ and the key 3, the resulting encryted text would be ‘khoor’. Here you can see that every character in the string hello is shifted by 3 characters. ‘h’ has shifted to ‘k’, ‘e’ has shifted to ‘h’ and so on. If a key of 5 were used, the resulting string would be ‘mjqqt’. This function should be capable of ignoring any characters which are not alphabets. Th2 character ‘z’ entered b\n",
    "y the user for a key of 3 would result in ‘c’.\n",
    "\n",
    "Usage:<br>\n",
    "**encrypt(‘hello world!’, 3)**<br>\n",
    "**‘khoor zruog!’**\n",
    "\n",
    "Similarly create decrypter which can decode the encryted text when provided the input text and key\n",
    "\n",
    "Usage:<br>\n",
    "**decrypt(‘khoor zruog!’, 3)**<br>\n",
    "**‘hello world!’**\n",
    "\n",
    "For the sake of simplicity you can assume that input solely consists of lowercase alphabets, spaces and punctuation symbols. Numbers in the input text would also be ignored similar to symbols."
   ]
  },
  {
   "cell_type": "code",
   "execution_count": 44,
   "metadata": {},
   "outputs": [
    {
     "name": "stdout",
     "output_type": "stream",
     "text": [
      "Encrypted text:  khoor zruog!\n",
      "Decrypted text:  hello world!\n"
     ]
    }
   ],
   "source": [
    "import string\n",
    "\n",
    "def encrypt(a,b):\n",
    "    new =''\n",
    "    lst = string.ascii_lowercase*2\n",
    "    for i in a:\n",
    "        if i.isalpha():\n",
    "            i=lst[lst.find(i)+b]\n",
    "            new=new+i\n",
    "        else:\n",
    "            new=new+i\n",
    "    \n",
    "    return(new)\n",
    "\n",
    "First = encrypt('hello world!',3)\n",
    "\n",
    "def decrypt(a,b):\n",
    "    new =''\n",
    "    lst = string.ascii_lowercase*2\n",
    "    for i in a:\n",
    "        if i.isalpha():\n",
    "            i=lst[lst.find(i)-b]\n",
    "            new=new+i\n",
    "        else:\n",
    "            new=new+i\n",
    "    \n",
    "    return(new)\n",
    "\n",
    "Second = decrypt('khoor zruog!',3)     \n",
    "\n",
    "print('Encrypted text: ', First)\n",
    "print('Decrypted text: ', Second)\n"
   ]
  },
  {
   "cell_type": "code",
   "execution_count": null,
   "metadata": {},
   "outputs": [],
   "source": [
    " "
   ]
  },
  {
   "cell_type": "code",
   "execution_count": null,
   "metadata": {},
   "outputs": [],
   "source": [
    "\n"
   ]
  },
  {
   "cell_type": "code",
   "execution_count": null,
   "metadata": {},
   "outputs": [],
   "source": []
  },
  {
   "cell_type": "code",
   "execution_count": null,
   "metadata": {},
   "outputs": [],
   "source": []
  },
  {
   "cell_type": "code",
   "execution_count": null,
   "metadata": {},
   "outputs": [],
   "source": []
  }
 ],
 "metadata": {
  "kernelspec": {
   "display_name": "Python 3",
   "language": "python",
   "name": "python3"
  },
  "language_info": {
   "codemirror_mode": {
    "name": "ipython",
    "version": 3
   },
   "file_extension": ".py",
   "mimetype": "text/x-python",
   "name": "python",
   "nbconvert_exporter": "python",
   "pygments_lexer": "ipython3",
   "version": "3.7.6"
  }
 },
 "nbformat": 4,
 "nbformat_minor": 2
}
